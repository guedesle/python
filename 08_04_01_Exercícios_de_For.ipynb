{
  "cells": [
    {
      "cell_type": "markdown",
      "metadata": {
        "id": "view-in-github",
        "colab_type": "text"
      },
      "source": [
        "<a href=\"https://colab.research.google.com/github/guedesle/python/blob/main/08_04_01_Exerc%C3%ADcios_de_For.ipynb\" target=\"_parent\"><img src=\"https://colab.research.google.com/assets/colab-badge.svg\" alt=\"Open In Colab\"/></a>"
      ]
    },
    {
      "cell_type": "markdown",
      "metadata": {
        "id": "lUhTuGQzAUaJ"
      },
      "source": [
        "# Exercícios\n",
        "\n",
        "## 1. Criando um Registro de Hóspedes\n",
        "\n",
        "Digamos que você está criando o sistema para registrar a chegada de hóspedes em um hotel. No hotel, os hóspedes podem ter quartos com 1, 2, 3 e 4 pessoas. Seu sistema deve conseguir:\n",
        "\n",
        "1. Identificar quantas pessoas o hóspede que acabou de chegar vai ter no quarto (perguntando por meio de input)\n",
        "2. De acordo com a quantidade de pessoas do hóspede, ele deve fazer um for para perguntar o cpf e o nome de cada pessoa, a fim de registrá-la no quarto (2 inputs para cada pessoa, 1 para o cpf e outro para o nome)\n",
        "3. O seu programa então deve gerar uma lista com todas as pessoas que ficarão no quarto em que cada item dessa lista é o nome da pessoa e o cpf da pessoa, assim:"
      ]
    },
    {
      "cell_type": "raw",
      "metadata": {
        "id": "05ugrCQUAUaO"
      },
      "source": [
        "quarto = [\n",
        "    ['João', 'cpf:00000000000'],\n",
        "    ['Julia', 'cpf:11111111111'],\n",
        "    ['Marcus', 'cpf:22222222222'],\n",
        "    ['Maria', 'cpf:33333333333'],\n",
        "]"
      ]
    },
    {
      "cell_type": "markdown",
      "metadata": {
        "id": "PbP-97OSAUaP"
      },
      "source": [
        "- Para simplificar, não vamos nos preocupar com possibilidades de \"tentar colocar mais de 1 hóspede, digitar o cpf errado, etc. Nosso objetivo é treinar a criação de uma rotina de cadastro"
      ]
    },
    {
      "cell_type": "code",
      "execution_count": 39,
      "metadata": {
        "id": "Kq8XrBKnAUaQ",
        "outputId": "efd1cee9-0d93-44cf-8936-bc5d16cde748",
        "colab": {
          "base_uri": "https://localhost:8080/"
        }
      },
      "outputs": [
        {
          "name": "stdout",
          "output_type": "stream",
          "text": [
            "Qual o número de hóspedes?1\n"
          ]
        }
      ],
      "source": [
        "Hospedes = int(input('Qual o número de hóspedes?'))"
      ]
    },
    {
      "cell_type": "code",
      "source": [
        "quarto = []\n",
        "if Hospedes == 0:\n",
        "  print(\"precisa de um hospede ao menos\")\n",
        "\n",
        "if Hospedes <= 4: \n",
        "  for i in range(Hospedes):\n",
        "    hospede = input('Digite o nome do hospede {}: '.format(i+1\n",
        "                                                           ))\n",
        "    cpf = input(\"Digite o cpf: \")\n",
        "    quarto.append([hospede,'cpf:{}'.format(cpf)])\n",
        "  print(quarto)\n",
        "else:\n",
        "  print"
      ],
      "metadata": {
        "id": "jwVb7zETBxeg",
        "outputId": "cac3749e-4f71-4a7f-9995-fbeeca822ede",
        "colab": {
          "base_uri": "https://localhost:8080/"
        }
      },
      "execution_count": 40,
      "outputs": [
        {
          "output_type": "stream",
          "name": "stdout",
          "text": [
            "Digite o nome do hospede 1: joao\n",
            "Digite o cpf: 11111111111\n",
            "[['joao', 'cpf:11111111111']]\n"
          ]
        }
      ]
    },
    {
      "cell_type": "markdown",
      "metadata": {
        "id": "vK9_D9WbAUaR"
      },
      "source": [
        "## 2. Análise de Vendas\n",
        "\n",
        "Nesse exercício vamos fazer uma \"análise simples\" de atingimento de Meta.\n",
        "\n",
        "Temos uma lista com os vendedores e os valores de vendas e queremos identificar (printar) quais os vendedores que bateram a meta e qual foi o valor que eles venderam."
      ]
    },
    {
      "cell_type": "code",
      "execution_count": 42,
      "metadata": {
        "id": "oFCctt_aAUaS",
        "outputId": "6363602c-f3a1-4ee4-ddb3-3c140f1058ce",
        "colab": {
          "base_uri": "https://localhost:8080/"
        }
      },
      "outputs": [
        {
          "output_type": "stream",
          "name": "stdout",
          "text": [
            "Os vendedores que bateram a meta foram:\n",
            "João com 15000 reais em vendas\n",
            "Julia com 27000 reais em vendas\n",
            "Ana com 10300 reais em vendas\n"
          ]
        }
      ],
      "source": [
        "meta = 10000\n",
        "vendas = [\n",
        "    ['João', 15000],\n",
        "    ['Julia', 27000],\n",
        "    ['Marcus', 9900],\n",
        "    ['Maria', 3750],\n",
        "    ['Ana', 10300],\n",
        "    ['Alon', 7870],\n",
        "]\n",
        "destaques = []\n",
        "print('Os vendedores que bateram a meta foram:')\n",
        "for vendedor in vendas:\n",
        "  if vendedor[1] > meta:\n",
        "    print('{} com {} reais em vendas'.format(vendedor[0], vendedor[1]))"
      ]
    },
    {
      "cell_type": "markdown",
      "metadata": {
        "id": "zmtX7K1SAUaT"
      },
      "source": [
        "## 3. Comparação com Ano Anterior\n",
        "\n",
        "Digamos que você está analisando as vendas de produtos de um ecommerce e quer identificar quais produtos tiveram no ano de 2020 mais vendas do que no ano de 2019, para reportar isso para a diretoria.\n",
        "\n",
        "Sua resposta pode ser um print de cada produto, qual foi a venda de 2019, a venda de 2020 e o % de crescimento de 2020 para 2019.\n",
        "\n",
        "Lembrando, para calcular o % de crescimento de um produto de um ano para o outro, podemos fazer: (vendas_produto2020/vendas_produto2019 - 1)\n",
        "\n",
        "Dica: lembre do enumerate, ele pode facilitar seu \"for\""
      ]
    },
    {
      "cell_type": "code",
      "execution_count": null,
      "metadata": {
        "id": "9lHiRtEVAUaU"
      },
      "outputs": [],
      "source": [
        "produtos = ['iphone', 'galaxy', 'ipad', 'tv', 'máquina de café', 'kindle', 'geladeira', 'adega', 'notebook dell', 'notebook hp', 'notebook asus', 'microsoft surface', 'webcam', 'caixa de som', 'microfone', 'câmera canon']\n",
        "vendas2019 = [558147,712350,573823,405252,718654,531580,973139,892292,422760,154753,887061,438508,237467,489705,328311,591120]\n",
        "vendas2020 = [951642,244295,26964,787604,867660,78830,710331,646016,694913,539704,324831,667179,295633,725316,644622,994303]\n",
        "#seu código aqui"
      ]
    }
  ],
  "metadata": {
    "kernelspec": {
      "display_name": "Python 3",
      "language": "python",
      "name": "python3"
    },
    "language_info": {
      "codemirror_mode": {
        "name": "ipython",
        "version": 3
      },
      "file_extension": ".py",
      "mimetype": "text/x-python",
      "name": "python",
      "nbconvert_exporter": "python",
      "pygments_lexer": "ipython3",
      "version": "3.8.3"
    },
    "colab": {
      "provenance": [],
      "include_colab_link": true
    }
  },
  "nbformat": 4,
  "nbformat_minor": 0
}