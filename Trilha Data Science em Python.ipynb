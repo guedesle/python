{
  "nbformat": 4,
  "nbformat_minor": 0,
  "metadata": {
    "colab": {
      "provenance": [],
      "authorship_tag": "ABX9TyMDJH40bKzckDm3cT1JAN6u",
      "include_colab_link": true
    },
    "kernelspec": {
      "name": "python3",
      "display_name": "Python 3"
    },
    "language_info": {
      "name": "python"
    }
  },
  "cells": [
    {
      "cell_type": "markdown",
      "metadata": {
        "id": "view-in-github",
        "colab_type": "text"
      },
      "source": [
        "<a href=\"https://colab.research.google.com/github/guedesle/python/blob/main/Trilha%20Data%20Science%20em%20Python.ipynb\" target=\"_parent\"><img src=\"https://colab.research.google.com/assets/colab-badge.svg\" alt=\"Open In Colab\"/></a>"
      ]
    },
    {
      "cell_type": "markdown",
      "source": [
        "# Trilha de Estudos de Data Science em Python\n",
        "\n",
        "## Roteiro\n",
        "\n",
        "### ETL\n",
        "\n",
        "    Selenium\n",
        "    Beautiful Soap\n",
        "    Scrapy\n",
        "    Databricks SQL Connector for Python\n",
        "    MySQLdb\n",
        "\n",
        "\n",
        "### Analise e tratamento de dados\n",
        "    Pandas\n",
        "    Numpy\n",
        "    Matpltlib\n",
        "    Plotly\n",
        "\n"
      ],
      "metadata": {
        "id": "NN7hPBa8YuKH"
      }
    },
    {
      "cell_type": "code",
      "source": [],
      "metadata": {
        "id": "WBBIk4a9isBG"
      },
      "execution_count": null,
      "outputs": []
    }
  ]
}